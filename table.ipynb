{
 "cells": [
  {
   "cell_type": "code",
   "execution_count": 1,
   "metadata": {},
   "outputs": [],
   "source": [
    "import pandas as pd\r\n",
    "import numpy as np"
   ]
  },
  {
   "cell_type": "code",
   "execution_count": 2,
   "metadata": {},
   "outputs": [],
   "source": [
    "URLS = [\r\n",
    "    'http://eurosvet.ru/prices/prices-eurosvet-rur-utf-8.csv',\r\n",
    "    'http://elektrostandard.ru/prices/prices-elektrostandard-rur-utf-8.csv',\r\n",
    "    'http://werkel.ru/prices/prices-werkel-rur-utf-8.csv',\r\n",
    "    'https://api.escorp.ru:779/prices/prices-minimir-rur-utf-8.csv'\r\n",
    "]\r\n",
    "dataframes = []\r\n",
    "for url in URLS:\r\n",
    "    dataframes.append(pd.read_csv(url, sep=';', encoding='utf-8'))\r\n"
   ]
  },
  {
   "cell_type": "code",
   "execution_count": 3,
   "metadata": {},
   "outputs": [],
   "source": [
    "# make shop dataset\r\n",
    "headers = ['id', 'structure', 'is_public', 'upc', 'parent', 'title', 'slug', 'description', 'product_class', 'attributes', 'product_options', 'recommended_products',\r\n",
    "           'rating', 'date_created', 'date_updated', 'categories', 'is_discountable', 'article', 'series', 'seo_name_for_site', 'category', 'barcode', 'attribute', 'image_url', 'price']\r\n",
    "shop_data = pd.DataFrame([], columns=headers)\r\n"
   ]
  },
  {
   "cell_type": "code",
   "execution_count": 4,
   "metadata": {},
   "outputs": [],
   "source": [
    "def merge_columns(dataframes,col_name,):\r\n",
    "    merged_column=[]\r\n",
    "    for dataframe in dataframes:\r\n",
    "        merged_column.append(dataframe[col_name].to_numpy())\r\n",
    "    return np.concatenate(merged_column)"
   ]
  },
  {
   "cell_type": "code",
   "execution_count": 5,
   "metadata": {},
   "outputs": [],
   "source": [
    "shop_data['price'] =merge_columns(dataframes,'Цена') \r\n",
    "shop_data['description']=merge_columns(dataframes,'Описание')\r\n",
    "shop_data['title']=merge_columns(dataframes,'SEO название для сайта')\r\n",
    "shop_data['name']=merge_columns(dataframes,'Наименование')\r\n",
    "shop_data['id']=np.arange(1,len(shop_data['id'])+1)\r\n",
    "# shop_data['name']=merge_columns(dataframes,'Наименование')\r\n"
   ]
  },
  {
   "cell_type": "code",
   "execution_count": 6,
   "metadata": {},
   "outputs": [
    {
     "data": {
      "text/html": "<div>\n<style scoped>\n    .dataframe tbody tr th:only-of-type {\n        vertical-align: middle;\n    }\n\n    .dataframe tbody tr th {\n        vertical-align: top;\n    }\n\n    .dataframe thead th {\n        text-align: right;\n    }\n</style>\n<table border=\"1\" class=\"dataframe\">\n  <thead>\n    <tr style=\"text-align: right;\">\n      <th></th>\n      <th>id</th>\n      <th>structure</th>\n      <th>is_public</th>\n      <th>upc</th>\n      <th>parent</th>\n      <th>title</th>\n      <th>slug</th>\n      <th>description</th>\n      <th>product_class</th>\n      <th>attributes</th>\n      <th>...</th>\n      <th>is_discountable</th>\n      <th>article</th>\n      <th>series</th>\n      <th>seo_name_for_site</th>\n      <th>category</th>\n      <th>barcode</th>\n      <th>attribute</th>\n      <th>image_url</th>\n      <th>price</th>\n      <th>name</th>\n    </tr>\n  </thead>\n  <tbody>\n    <tr>\n      <th>0</th>\n      <td>1</td>\n      <td>NaN</td>\n      <td>NaN</td>\n      <td>NaN</td>\n      <td>NaN</td>\n      <td>Потолочная люстра 351 Smart</td>\n      <td>NaN</td>\n      <td>NaN</td>\n      <td>NaN</td>\n      <td>NaN</td>\n      <td>...</td>\n      <td>NaN</td>\n      <td>NaN</td>\n      <td>NaN</td>\n      <td>NaN</td>\n      <td>NaN</td>\n      <td>NaN</td>\n      <td>NaN</td>\n      <td>NaN</td>\n      <td>40700.0</td>\n      <td>351 Smart</td>\n    </tr>\n    <tr>\n      <th>1</th>\n      <td>2</td>\n      <td>NaN</td>\n      <td>NaN</td>\n      <td>NaN</td>\n      <td>NaN</td>\n      <td>Потолочная люстра 350 Smart</td>\n      <td>NaN</td>\n      <td>NaN</td>\n      <td>NaN</td>\n      <td>NaN</td>\n      <td>...</td>\n      <td>NaN</td>\n      <td>NaN</td>\n      <td>NaN</td>\n      <td>NaN</td>\n      <td>NaN</td>\n      <td>NaN</td>\n      <td>NaN</td>\n      <td>NaN</td>\n      <td>24500.0</td>\n      <td>350 Smart</td>\n    </tr>\n    <tr>\n      <th>2</th>\n      <td>3</td>\n      <td>NaN</td>\n      <td>NaN</td>\n      <td>NaN</td>\n      <td>NaN</td>\n      <td>Потолочная люстра 349 Smart</td>\n      <td>NaN</td>\n      <td>NaN</td>\n      <td>NaN</td>\n      <td>NaN</td>\n      <td>...</td>\n      <td>NaN</td>\n      <td>NaN</td>\n      <td>NaN</td>\n      <td>NaN</td>\n      <td>NaN</td>\n      <td>NaN</td>\n      <td>NaN</td>\n      <td>NaN</td>\n      <td>45500.0</td>\n      <td>349 Smart</td>\n    </tr>\n    <tr>\n      <th>3</th>\n      <td>4</td>\n      <td>NaN</td>\n      <td>NaN</td>\n      <td>NaN</td>\n      <td>NaN</td>\n      <td>Потолочная люстра 348 Smart</td>\n      <td>NaN</td>\n      <td>NaN</td>\n      <td>NaN</td>\n      <td>NaN</td>\n      <td>...</td>\n      <td>NaN</td>\n      <td>NaN</td>\n      <td>NaN</td>\n      <td>NaN</td>\n      <td>NaN</td>\n      <td>NaN</td>\n      <td>NaN</td>\n      <td>NaN</td>\n      <td>32000.0</td>\n      <td>348 Smart</td>\n    </tr>\n    <tr>\n      <th>4</th>\n      <td>5</td>\n      <td>NaN</td>\n      <td>NaN</td>\n      <td>NaN</td>\n      <td>NaN</td>\n      <td>Потолочная люстра 347 Smart</td>\n      <td>NaN</td>\n      <td>NaN</td>\n      <td>NaN</td>\n      <td>NaN</td>\n      <td>...</td>\n      <td>NaN</td>\n      <td>NaN</td>\n      <td>NaN</td>\n      <td>NaN</td>\n      <td>NaN</td>\n      <td>NaN</td>\n      <td>NaN</td>\n      <td>NaN</td>\n      <td>19900.0</td>\n      <td>347 Smart</td>\n    </tr>\n    <tr>\n      <th>...</th>\n      <td>...</td>\n      <td>...</td>\n      <td>...</td>\n      <td>...</td>\n      <td>...</td>\n      <td>...</td>\n      <td>...</td>\n      <td>...</td>\n      <td>...</td>\n      <td>...</td>\n      <td>...</td>\n      <td>...</td>\n      <td>...</td>\n      <td>...</td>\n      <td>...</td>\n      <td>...</td>\n      <td>...</td>\n      <td>...</td>\n      <td>...</td>\n      <td>...</td>\n      <td>...</td>\n    </tr>\n    <tr>\n      <th>8791</th>\n      <td>8792</td>\n      <td>NaN</td>\n      <td>NaN</td>\n      <td>NaN</td>\n      <td>NaN</td>\n      <td>Бра со стеклянным плафоном 3457/1 хром/белый</td>\n      <td>NaN</td>\n      <td>Бра со стеклянным плафоном 3457/1 хром/белый с...</td>\n      <td>NaN</td>\n      <td>NaN</td>\n      <td>...</td>\n      <td>NaN</td>\n      <td>NaN</td>\n      <td>NaN</td>\n      <td>NaN</td>\n      <td>NaN</td>\n      <td>NaN</td>\n      <td>NaN</td>\n      <td>NaN</td>\n      <td>1900.0</td>\n      <td>3457/1 хром/белый</td>\n    </tr>\n    <tr>\n      <th>8792</th>\n      <td>8793</td>\n      <td>NaN</td>\n      <td>NaN</td>\n      <td>NaN</td>\n      <td>NaN</td>\n      <td>Люстра потолочная 3353/6 хром/белый</td>\n      <td>NaN</td>\n      <td>Люстра потолочная 3353/6 хром/белый предназнач...</td>\n      <td>NaN</td>\n      <td>NaN</td>\n      <td>...</td>\n      <td>NaN</td>\n      <td>NaN</td>\n      <td>NaN</td>\n      <td>NaN</td>\n      <td>NaN</td>\n      <td>NaN</td>\n      <td>NaN</td>\n      <td>NaN</td>\n      <td>8970.0</td>\n      <td>3353/6 хром/белый</td>\n    </tr>\n    <tr>\n      <th>8793</th>\n      <td>8794</td>\n      <td>NaN</td>\n      <td>NaN</td>\n      <td>NaN</td>\n      <td>NaN</td>\n      <td>Потолочная люстра 3353/3 хром/белый</td>\n      <td>NaN</td>\n      <td>Потолочная люстра 3353/3 хром/белый предназнач...</td>\n      <td>NaN</td>\n      <td>NaN</td>\n      <td>...</td>\n      <td>NaN</td>\n      <td>NaN</td>\n      <td>NaN</td>\n      <td>NaN</td>\n      <td>NaN</td>\n      <td>NaN</td>\n      <td>NaN</td>\n      <td>NaN</td>\n      <td>5760.0</td>\n      <td>3353/3 хром/белый</td>\n    </tr>\n    <tr>\n      <th>8794</th>\n      <td>8795</td>\n      <td>NaN</td>\n      <td>NaN</td>\n      <td>NaN</td>\n      <td>NaN</td>\n      <td>Торшер классический янтарный 009/1T RDM (янтарь)</td>\n      <td>NaN</td>\n      <td>Торшер с тканевым абажуром 009/1T RDM в янтарн...</td>\n      <td>NaN</td>\n      <td>NaN</td>\n      <td>...</td>\n      <td>NaN</td>\n      <td>NaN</td>\n      <td>NaN</td>\n      <td>NaN</td>\n      <td>NaN</td>\n      <td>NaN</td>\n      <td>NaN</td>\n      <td>NaN</td>\n      <td>6650.0</td>\n      <td>009/1T RDM (янтарь)</td>\n    </tr>\n    <tr>\n      <th>8795</th>\n      <td>8796</td>\n      <td>NaN</td>\n      <td>NaN</td>\n      <td>NaN</td>\n      <td>NaN</td>\n      <td>Настольная лампа 008/1T GR (зеленый)</td>\n      <td>NaN</td>\n      <td>Настольная лампа 008/1T GR (зеленый) является ...</td>\n      <td>NaN</td>\n      <td>NaN</td>\n      <td>...</td>\n      <td>NaN</td>\n      <td>NaN</td>\n      <td>NaN</td>\n      <td>NaN</td>\n      <td>NaN</td>\n      <td>NaN</td>\n      <td>NaN</td>\n      <td>NaN</td>\n      <td>3060.0</td>\n      <td>008/1T GR (зеленый) мал.(уп 10 шт)</td>\n    </tr>\n  </tbody>\n</table>\n<p>8796 rows × 26 columns</p>\n</div>",
      "text/plain": "        id structure is_public  upc parent  \\\n0        1       NaN       NaN  NaN    NaN   \n1        2       NaN       NaN  NaN    NaN   \n2        3       NaN       NaN  NaN    NaN   \n3        4       NaN       NaN  NaN    NaN   \n4        5       NaN       NaN  NaN    NaN   \n...    ...       ...       ...  ...    ...   \n8791  8792       NaN       NaN  NaN    NaN   \n8792  8793       NaN       NaN  NaN    NaN   \n8793  8794       NaN       NaN  NaN    NaN   \n8794  8795       NaN       NaN  NaN    NaN   \n8795  8796       NaN       NaN  NaN    NaN   \n\n                                                 title slug  \\\n0                          Потолочная люстра 351 Smart  NaN   \n1                          Потолочная люстра 350 Smart  NaN   \n2                          Потолочная люстра 349 Smart  NaN   \n3                          Потолочная люстра 348 Smart  NaN   \n4                          Потолочная люстра 347 Smart  NaN   \n...                                                ...  ...   \n8791      Бра со стеклянным плафоном 3457/1 хром/белый  NaN   \n8792               Люстра потолочная 3353/6 хром/белый  NaN   \n8793               Потолочная люстра 3353/3 хром/белый  NaN   \n8794  Торшер классический янтарный 009/1T RDM (янтарь)  NaN   \n8795              Настольная лампа 008/1T GR (зеленый)  NaN   \n\n                                            description product_class  \\\n0                                                   NaN           NaN   \n1                                                   NaN           NaN   \n2                                                   NaN           NaN   \n3                                                   NaN           NaN   \n4                                                   NaN           NaN   \n...                                                 ...           ...   \n8791  Бра со стеклянным плафоном 3457/1 хром/белый с...           NaN   \n8792  Люстра потолочная 3353/6 хром/белый предназнач...           NaN   \n8793  Потолочная люстра 3353/3 хром/белый предназнач...           NaN   \n8794  Торшер с тканевым абажуром 009/1T RDM в янтарн...           NaN   \n8795  Настольная лампа 008/1T GR (зеленый) является ...           NaN   \n\n     attributes  ... is_discountable article series seo_name_for_site  \\\n0           NaN  ...             NaN     NaN    NaN               NaN   \n1           NaN  ...             NaN     NaN    NaN               NaN   \n2           NaN  ...             NaN     NaN    NaN               NaN   \n3           NaN  ...             NaN     NaN    NaN               NaN   \n4           NaN  ...             NaN     NaN    NaN               NaN   \n...         ...  ...             ...     ...    ...               ...   \n8791        NaN  ...             NaN     NaN    NaN               NaN   \n8792        NaN  ...             NaN     NaN    NaN               NaN   \n8793        NaN  ...             NaN     NaN    NaN               NaN   \n8794        NaN  ...             NaN     NaN    NaN               NaN   \n8795        NaN  ...             NaN     NaN    NaN               NaN   \n\n     category barcode attribute image_url    price  \\\n0         NaN     NaN       NaN       NaN  40700.0   \n1         NaN     NaN       NaN       NaN  24500.0   \n2         NaN     NaN       NaN       NaN  45500.0   \n3         NaN     NaN       NaN       NaN  32000.0   \n4         NaN     NaN       NaN       NaN  19900.0   \n...       ...     ...       ...       ...      ...   \n8791      NaN     NaN       NaN       NaN   1900.0   \n8792      NaN     NaN       NaN       NaN   8970.0   \n8793      NaN     NaN       NaN       NaN   5760.0   \n8794      NaN     NaN       NaN       NaN   6650.0   \n8795      NaN     NaN       NaN       NaN   3060.0   \n\n                                    name  \n0                              351 Smart  \n1                              350 Smart  \n2                              349 Smart  \n3                              348 Smart  \n4                              347 Smart  \n...                                  ...  \n8791                   3457/1 хром/белый  \n8792                   3353/6 хром/белый  \n8793                   3353/3 хром/белый  \n8794                 009/1T RDM (янтарь)  \n8795  008/1T GR (зеленый) мал.(уп 10 шт)  \n\n[8796 rows x 26 columns]"
     },
     "execution_count": 6,
     "metadata": {},
     "output_type": "execute_result"
    }
   ],
   "source": [
    "shop_data"
   ]
  },
  {
   "cell_type": "code",
   "execution_count": 9,
   "metadata": {},
   "outputs": [],
   "source": [
    "shop_data.to_csv('saved_shop.csv',index=False)"
   ]
  },
  {
   "cell_type": "code",
   "execution_count": null,
   "metadata": {},
   "outputs": [],
   "source": []
  }
 ],
 "metadata": {
  "kernelspec": {
   "display_name": "Python 3.8.3 64-bit ('oscar')",
   "metadata": {
    "interpreter": {
     "hash": "456cb7cbac2fbddbe3daa624414098da11bb4f3e13ca722059c83a65ad72d46e"
    }
   },
   "name": "python3"
  },
  "language_info": {
   "codemirror_mode": {
    "name": "ipython",
    "version": 3
   },
   "file_extension": ".py",
   "mimetype": "text/x-python",
   "name": "python",
   "nbconvert_exporter": "python",
   "pygments_lexer": "ipython3",
   "version": "3.8.3"
  },
  "orig_nbformat": 2
 },
 "nbformat": 4,
 "nbformat_minor": 2
}