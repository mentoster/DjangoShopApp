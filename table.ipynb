{
 "cells": [
  {
   "cell_type": "code",
   "execution_count": 1,
   "metadata": {},
   "outputs": [],
   "source": [
    "import pandas as pd\r\n",
    "import numpy as np\r\n"
   ]
  },
  {
   "cell_type": "code",
   "execution_count": 3,
   "metadata": {},
   "outputs": [
    {
     "name": "stderr",
     "output_type": "stream",
     "text": [
      "C:\\ProgramData\\Anaconda3\\lib\\site-packages\\IPython\\core\\interactiveshell.py:3146: DtypeWarning: Columns (0,24,29,30,32,34,35,39,52,54,55,56,57,60,61,63,64,65,66,67,71,72,73,74,75,78,79,83,87,89,90,93,94,95,100,101,102,103,104,110,111,112,116,120,138,139,142,143,145,146,147,148,152,162,166,167,168,170,178,182,185,186,189,190,197,198,199,202,203,204,205,208,209,211,212,219,220,242,243,244,245,246,247,248,249) have mixed types.Specify dtype option on import or set low_memory=False.\n",
      "  has_raised = await self.run_ast_nodes(code_ast.body, cell_name,\n"
     ]
    }
   ],
   "source": [
    "URLS = [\r\n",
    "    'X:/Users/Dimam/Downloads/prices-eurosvet-rur-utf-8.csv',\r\n",
    "    'X:/Users/Dimam/Downloads/prices-elektrostandard-rur-utf-8.csv',\r\n",
    "    'X:/Users/Dimam/Downloads/prices-werkel-rur-utf-8.csv',\r\n",
    "    'X:/Users/Dimam/Downloads/prices-minimir-rur-utf-8.csv'\r\n",
    "]\r\n",
    "dataframes = []\r\n",
    "for url in URLS:\r\n",
    "    dataframes.append(pd.read_csv(url, sep=';', encoding='utf-8'))\r\n"
   ]
  },
  {
   "cell_type": "code",
   "execution_count": 11,
   "metadata": {},
   "outputs": [],
   "source": [
    "partner_names=[\"eurosvet\",\"elektrostandard\",\"werkel\",\"minimir\"]\r\n",
    "d = {'id': [1, 2,3,4], 'code': partner_names,'name':partner_names}\r\n",
    "partner_partner = pd.DataFrame(data=d)\r\n",
    "\r\n"
   ]
  },
  {
   "cell_type": "code",
   "execution_count": 12,
   "metadata": {},
   "outputs": [
    {
     "data": {
      "text/html": "<div>\n<style scoped>\n    .dataframe tbody tr th:only-of-type {\n        vertical-align: middle;\n    }\n\n    .dataframe tbody tr th {\n        vertical-align: top;\n    }\n\n    .dataframe thead th {\n        text-align: right;\n    }\n</style>\n<table border=\"1\" class=\"dataframe\">\n  <thead>\n    <tr style=\"text-align: right;\">\n      <th></th>\n      <th>id</th>\n      <th>code</th>\n      <th>name</th>\n    </tr>\n  </thead>\n  <tbody>\n    <tr>\n      <th>0</th>\n      <td>1</td>\n      <td>eurosvet</td>\n      <td>eurosvet</td>\n    </tr>\n    <tr>\n      <th>1</th>\n      <td>2</td>\n      <td>elektrostandard</td>\n      <td>elektrostandard</td>\n    </tr>\n    <tr>\n      <th>2</th>\n      <td>3</td>\n      <td>werkel</td>\n      <td>werkel</td>\n    </tr>\n    <tr>\n      <th>3</th>\n      <td>4</td>\n      <td>minimir</td>\n      <td>minimir</td>\n    </tr>\n  </tbody>\n</table>\n</div>",
      "text/plain": "   id             code             name\n0   1         eurosvet         eurosvet\n1   2  elektrostandard  elektrostandard\n2   3           werkel           werkel\n3   4          minimir          minimir"
     },
     "execution_count": 12,
     "metadata": {},
     "output_type": "execute_result"
    }
   ],
   "source": [
    "partner_partner"
   ]
  },
  {
   "cell_type": "code",
   "execution_count": 4,
   "metadata": {},
   "outputs": [],
   "source": [
    "# make shop dataset\r\n",
    "catalogue_product_headers = ['id', 'price',\r\n",
    "                             'description', 'title', 'name', 'upc']\r\n",
    "catalogue_product = pd.DataFrame([], columns=catalogue_product_headers)\r\n"
   ]
  },
  {
   "cell_type": "code",
   "execution_count": 5,
   "metadata": {},
   "outputs": [],
   "source": [
    "def merge_columns(dataframes, col_name,):\r\n",
    "    merged_column = []\r\n",
    "    for dataframe in dataframes:\r\n",
    "        merged_column.append(dataframe[col_name].to_numpy())\r\n",
    "    return np.concatenate(merged_column)\r\n"
   ]
  },
  {
   "cell_type": "code",
   "execution_count": 6,
   "metadata": {},
   "outputs": [],
   "source": [
    "what_copy = {\r\n",
    "    'price': 'Цена',\r\n",
    "    'description': 'Описание',\r\n",
    "    'title': 'SEO название для сайта',\r\n",
    "    'name': 'Наименование',\r\n",
    "    'upc': 'Штрихкод'\r\n",
    "    # 'slug':'SEO название',\r\n",
    "}\r\n",
    "for key in what_copy:\r\n",
    "    catalogue_product[key] = merge_columns(dataframes, what_copy[key])\r\n",
    "catalogue_product['id'] = np.arange(1, len(catalogue_product['id'])+1)\r\n",
    "# shop_data['name']=merge_columns(dataframes,'Наименование')\r\n"
   ]
  },
  {
   "cell_type": "code",
   "execution_count": 7,
   "metadata": {},
   "outputs": [
    {
     "data": {
      "text/html": "<div>\n<style scoped>\n    .dataframe tbody tr th:only-of-type {\n        vertical-align: middle;\n    }\n\n    .dataframe tbody tr th {\n        vertical-align: top;\n    }\n\n    .dataframe thead th {\n        text-align: right;\n    }\n</style>\n<table border=\"1\" class=\"dataframe\">\n  <thead>\n    <tr style=\"text-align: right;\">\n      <th></th>\n      <th>id</th>\n      <th>price</th>\n      <th>description</th>\n      <th>title</th>\n      <th>name</th>\n      <th>upc</th>\n    </tr>\n  </thead>\n  <tbody>\n    <tr>\n      <th>0</th>\n      <td>1</td>\n      <td>15500.0</td>\n      <td>NaN</td>\n      <td>Напольный светильник 5069 Treviso</td>\n      <td>5069 Treviso</td>\n      <td>5.901781e+12</td>\n    </tr>\n    <tr>\n      <th>1</th>\n      <td>2</td>\n      <td>26800.0</td>\n      <td>NaN</td>\n      <td>Хрустальная подвесная люстра 338/6 Strotskis S...</td>\n      <td>338/6 Strotskis Smart (318/6)</td>\n      <td>4.690389e+12</td>\n    </tr>\n    <tr>\n      <th>2</th>\n      <td>3</td>\n      <td>40700.0</td>\n      <td>NaN</td>\n      <td>Потолочная люстра 351 Smart</td>\n      <td>351 Smart (570)</td>\n      <td>4.690389e+12</td>\n    </tr>\n    <tr>\n      <th>3</th>\n      <td>4</td>\n      <td>24500.0</td>\n      <td>NaN</td>\n      <td>Потолочная люстра 350 Smart</td>\n      <td>350 Smart (569)</td>\n      <td>4.690389e+12</td>\n    </tr>\n    <tr>\n      <th>4</th>\n      <td>5</td>\n      <td>45500.0</td>\n      <td>NaN</td>\n      <td>Потолочная люстра 349 Smart</td>\n      <td>349 Smart (553)</td>\n      <td>4.690389e+12</td>\n    </tr>\n    <tr>\n      <th>...</th>\n      <td>...</td>\n      <td>...</td>\n      <td>...</td>\n      <td>...</td>\n      <td>...</td>\n      <td>...</td>\n    </tr>\n    <tr>\n      <th>9030</th>\n      <td>9031</td>\n      <td>1900.0</td>\n      <td>Бра со стеклянным плафоном 3457/1 хром/белый с...</td>\n      <td>Бра со стеклянным плафоном 3457/1 хром/белый</td>\n      <td>3457/1 хром/белый</td>\n      <td>4.607138e+12</td>\n    </tr>\n    <tr>\n      <th>9031</th>\n      <td>9032</td>\n      <td>8970.0</td>\n      <td>Люстра потолочная 3353/6 хром/белый предназнач...</td>\n      <td>Люстра потолочная 3353/6 хром/белый</td>\n      <td>3353/6 хром/белый</td>\n      <td>4.607138e+12</td>\n    </tr>\n    <tr>\n      <th>9032</th>\n      <td>9033</td>\n      <td>5760.0</td>\n      <td>Потолочная люстра 3353/3 хром/белый предназнач...</td>\n      <td>Потолочная люстра 3353/3 хром/белый</td>\n      <td>3353/3 хром/белый</td>\n      <td>4.607138e+12</td>\n    </tr>\n    <tr>\n      <th>9033</th>\n      <td>9034</td>\n      <td>6650.0</td>\n      <td>Торшер с тканевым абажуром 009/1T RDM в янтарн...</td>\n      <td>Торшер классический янтарный 009/1T RDM (янтарь)</td>\n      <td>009/1T RDM (янтарь)</td>\n      <td>4.607176e+12</td>\n    </tr>\n    <tr>\n      <th>9034</th>\n      <td>9035</td>\n      <td>3060.0</td>\n      <td>Настольная лампа 008/1T RDM (янтарь) является ...</td>\n      <td>Настольная лампа 008/1T RDM (янтарь)</td>\n      <td>008/1T RDM (янтарь) мал.(уп 10 шт)</td>\n      <td>4.607176e+12</td>\n    </tr>\n  </tbody>\n</table>\n<p>9035 rows × 6 columns</p>\n</div>",
      "text/plain": "        id    price                                        description  \\\n0        1  15500.0                                                NaN   \n1        2  26800.0                                                NaN   \n2        3  40700.0                                                NaN   \n3        4  24500.0                                                NaN   \n4        5  45500.0                                                NaN   \n...    ...      ...                                                ...   \n9030  9031   1900.0  Бра со стеклянным плафоном 3457/1 хром/белый с...   \n9031  9032   8970.0  Люстра потолочная 3353/6 хром/белый предназнач...   \n9032  9033   5760.0  Потолочная люстра 3353/3 хром/белый предназнач...   \n9033  9034   6650.0  Торшер с тканевым абажуром 009/1T RDM в янтарн...   \n9034  9035   3060.0  Настольная лампа 008/1T RDM (янтарь) является ...   \n\n                                                  title  \\\n0                     Напольный светильник 5069 Treviso   \n1     Хрустальная подвесная люстра 338/6 Strotskis S...   \n2                           Потолочная люстра 351 Smart   \n3                           Потолочная люстра 350 Smart   \n4                           Потолочная люстра 349 Smart   \n...                                                 ...   \n9030       Бра со стеклянным плафоном 3457/1 хром/белый   \n9031                Люстра потолочная 3353/6 хром/белый   \n9032                Потолочная люстра 3353/3 хром/белый   \n9033   Торшер классический янтарный 009/1T RDM (янтарь)   \n9034               Настольная лампа 008/1T RDM (янтарь)   \n\n                                    name           upc  \n0                           5069 Treviso  5.901781e+12  \n1          338/6 Strotskis Smart (318/6)  4.690389e+12  \n2                        351 Smart (570)  4.690389e+12  \n3                        350 Smart (569)  4.690389e+12  \n4                        349 Smart (553)  4.690389e+12  \n...                                  ...           ...  \n9030                   3457/1 хром/белый  4.607138e+12  \n9031                   3353/6 хром/белый  4.607138e+12  \n9032                   3353/3 хром/белый  4.607138e+12  \n9033                 009/1T RDM (янтарь)  4.607176e+12  \n9034  008/1T RDM (янтарь) мал.(уп 10 шт)  4.607176e+12  \n\n[9035 rows x 6 columns]"
     },
     "execution_count": 7,
     "metadata": {},
     "output_type": "execute_result"
    }
   ],
   "source": [
    "catalogue_product"
   ]
  },
  {
   "cell_type": "code",
   "execution_count": 7,
   "metadata": {},
   "outputs": [],
   "source": [
    "# shop_data.to_csv('saved_shop.csv',index=False)"
   ]
  },
  {
   "cell_type": "code",
   "execution_count": 8,
   "metadata": {},
   "outputs": [],
   "source": [
    "catalogue_productimage_headers = [\r\n",
    "    'id', 'original', 'display_order', 'product_id']\r\n",
    "catalogue_productimage = pd.DataFrame(\r\n",
    "    [], columns=catalogue_productimage_headers)\r\n"
   ]
  },
  {
   "cell_type": "code",
   "execution_count": 8,
   "metadata": {},
   "outputs": [],
   "source": [
    "def isNaN(num):\r\n",
    "    return num != num\r\n",
    "\r\n",
    "\r\n",
    "def make_list_of_images(row):\r\n",
    "    merged_urls = []\r\n",
    "    for i in range(len(row)):\r\n",
    "        image_head = 'Изображение '+str(i)\r\n",
    "        if image_head in row.keys() and not isNaN(row[image_head]):\r\n",
    "            merged_urls.append(row[image_head])\r\n",
    "    return merged_urls\r\n",
    "\r\n",
    "\r\n",
    "def make_image_rows(to_dataframe: pd.DataFrame, from_dataframe):\r\n",
    "    for i in range(len(from_dataframe.index)):\r\n",
    "        image_urls = make_list_of_images(from_dataframe.iloc[i])\r\n",
    "        for t in range(len(image_urls)):\r\n",
    "            id = len(to_dataframe.index)+1\r\n",
    "            to_dataframe.loc[id] = [id, image_urls[t], t, i]\r\n",
    "    return to_dataframe\r\n",
    "\r\n",
    "\r\n",
    "def fill_images_table(to_dataframe: pd.DataFrame, from_dataframes):\r\n",
    "    for from_dataframe in from_dataframes:\r\n",
    "        to_dataframe.merge(make_image_rows(to_dataframe, from_dataframe))\r\n",
    "    return to_dataframe\r\n",
    "\r\n",
    "\r\n",
    "# catalogue_productimage = fill_images_table(catalogue_productimage, dataframes)\r\n"
   ]
  },
  {
   "cell_type": "code",
   "execution_count": null,
   "metadata": {},
   "outputs": [],
   "source": [
    "# catalogue_productimage.to_excel('saved_shop.xlsx',index=False)\r\n"
   ]
  },
  {
   "cell_type": "code",
   "execution_count": null,
   "metadata": {},
   "outputs": [],
   "source": [
    "# stockrecord\r\n",
    "# products prices\r\n",
    "\r\n",
    "catalogue_product_headers = ['id', 'partner_sku',\r\n",
    "                             'price_currency', 'price_excl_tax','price_reatail','cost_price','num_in_stock', 'partner_id', 'product_id']\r\n",
    "catalogue_product = pd.DataFrame([], columns=catalogue_product_headers)"
   ]
  }
 ],
 "metadata": {
  "kernelspec": {
   "display_name": "Python 3.8.5 64-bit ('base': conda)",
   "name": "python385jvsc74a57bd0b3ba2566441a7c06988d0923437866b63cedc61552a5af99d1f4fb67d367b25f"
  },
  "language_info": {
   "name": "python",
   "version": ""
  },
  "orig_nbformat": 2
 },
 "nbformat": 4,
 "nbformat_minor": 2
}