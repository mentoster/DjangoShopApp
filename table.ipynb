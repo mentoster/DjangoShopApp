{
 "cells": [
  {
   "cell_type": "code",
   "execution_count": 1,
   "metadata": {},
   "outputs": [],
   "source": [
    "import pandas as pd\r\n",
    "import numpy as np"
   ]
  },
  {
   "cell_type": "code",
   "execution_count": 2,
   "metadata": {},
   "outputs": [],
   "source": [
    "URLS = [\r\n",
    "    'http://eurosvet.ru/prices/prices-eurosvet-rur-utf-8.csv',\r\n",
    "    'http://elektrostandard.ru/prices/prices-elektrostandard-rur-utf-8.csv',\r\n",
    "    'http://werkel.ru/prices/prices-werkel-rur-utf-8.csv',\r\n",
    "    'https://api.escorp.ru:779/prices/prices-minimir-rur-utf-8.csv'\r\n",
    "]\r\n",
    "dataframes = []\r\n",
    "for url in URLS:\r\n",
    "    dataframes.append(pd.read_csv(url, sep=';', encoding='utf-8'))\r\n"
   ]
  },
  {
   "cell_type": "code",
   "execution_count": 3,
   "metadata": {},
   "outputs": [],
   "source": [
    "# make shop dataset\r\n",
    "headers = ['id', 'structure', 'is_public', 'upc', 'parent', 'title', 'slug', 'description', 'product_class', 'attributes', 'product_options', 'recommended_products',\r\n",
    "           'rating', 'date_created', 'date_updated', 'categories', 'is_discountable', 'article', 'series', 'seo_name_for_site', 'category', 'barcode', 'attribute', 'image_url', 'price']\r\n",
    "shop_data = pd.DataFrame([], columns=headers)\r\n"
   ]
  },
  {
   "cell_type": "code",
   "execution_count": 4,
   "metadata": {},
   "outputs": [
    {
     "name": "stdout",
     "output_type": "stream",
     "text": [
      "<class 'method'>\n"
     ]
    }
   ],
   "source": [
    "print(type(dataframes[0]['Цена'].to_numpy))"
   ]
  },
  {
   "cell_type": "code",
   "execution_count": 5,
   "metadata": {},
   "outputs": [],
   "source": [
    "def merge_columns(dataframes,col_name,):\r\n",
    "    merged_column=[]\r\n",
    "    for dataframe in dataframes:\r\n",
    "        merged_column.append(dataframe[col_name].to_numpy())\r\n",
    "    return np.concatenate(merged_column)"
   ]
  },
  {
   "cell_type": "code",
   "execution_count": 6,
   "metadata": {},
   "outputs": [],
   "source": [
    "shop_data['price'] =merge_columns(dataframes,'Цена') \r\n",
    "shop_data['description']=merge_columns(dataframes,'Описание')"
   ]
  },
  {
   "cell_type": "code",
   "execution_count": 7,
   "metadata": {},
   "outputs": [
    {
     "data": {
      "text/html": "<div>\n<style scoped>\n    .dataframe tbody tr th:only-of-type {\n        vertical-align: middle;\n    }\n\n    .dataframe tbody tr th {\n        vertical-align: top;\n    }\n\n    .dataframe thead th {\n        text-align: right;\n    }\n</style>\n<table border=\"1\" class=\"dataframe\">\n  <thead>\n    <tr style=\"text-align: right;\">\n      <th></th>\n      <th>id</th>\n      <th>structure</th>\n      <th>is_public</th>\n      <th>upc</th>\n      <th>parent</th>\n      <th>title</th>\n      <th>slug</th>\n      <th>description</th>\n      <th>product_class</th>\n      <th>attributes</th>\n      <th>...</th>\n      <th>categories</th>\n      <th>is_discountable</th>\n      <th>article</th>\n      <th>series</th>\n      <th>seo_name_for_site</th>\n      <th>category</th>\n      <th>barcode</th>\n      <th>attribute</th>\n      <th>image_url</th>\n      <th>price</th>\n    </tr>\n  </thead>\n  <tbody>\n    <tr>\n      <th>0</th>\n      <td>NaN</td>\n      <td>NaN</td>\n      <td>NaN</td>\n      <td>NaN</td>\n      <td>NaN</td>\n      <td>NaN</td>\n      <td>NaN</td>\n      <td>NaN</td>\n      <td>NaN</td>\n      <td>NaN</td>\n      <td>...</td>\n      <td>NaN</td>\n      <td>NaN</td>\n      <td>NaN</td>\n      <td>NaN</td>\n      <td>NaN</td>\n      <td>NaN</td>\n      <td>NaN</td>\n      <td>NaN</td>\n      <td>NaN</td>\n      <td>40700.0</td>\n    </tr>\n    <tr>\n      <th>1</th>\n      <td>NaN</td>\n      <td>NaN</td>\n      <td>NaN</td>\n      <td>NaN</td>\n      <td>NaN</td>\n      <td>NaN</td>\n      <td>NaN</td>\n      <td>NaN</td>\n      <td>NaN</td>\n      <td>NaN</td>\n      <td>...</td>\n      <td>NaN</td>\n      <td>NaN</td>\n      <td>NaN</td>\n      <td>NaN</td>\n      <td>NaN</td>\n      <td>NaN</td>\n      <td>NaN</td>\n      <td>NaN</td>\n      <td>NaN</td>\n      <td>24500.0</td>\n    </tr>\n    <tr>\n      <th>2</th>\n      <td>NaN</td>\n      <td>NaN</td>\n      <td>NaN</td>\n      <td>NaN</td>\n      <td>NaN</td>\n      <td>NaN</td>\n      <td>NaN</td>\n      <td>NaN</td>\n      <td>NaN</td>\n      <td>NaN</td>\n      <td>...</td>\n      <td>NaN</td>\n      <td>NaN</td>\n      <td>NaN</td>\n      <td>NaN</td>\n      <td>NaN</td>\n      <td>NaN</td>\n      <td>NaN</td>\n      <td>NaN</td>\n      <td>NaN</td>\n      <td>45500.0</td>\n    </tr>\n    <tr>\n      <th>3</th>\n      <td>NaN</td>\n      <td>NaN</td>\n      <td>NaN</td>\n      <td>NaN</td>\n      <td>NaN</td>\n      <td>NaN</td>\n      <td>NaN</td>\n      <td>NaN</td>\n      <td>NaN</td>\n      <td>NaN</td>\n      <td>...</td>\n      <td>NaN</td>\n      <td>NaN</td>\n      <td>NaN</td>\n      <td>NaN</td>\n      <td>NaN</td>\n      <td>NaN</td>\n      <td>NaN</td>\n      <td>NaN</td>\n      <td>NaN</td>\n      <td>32000.0</td>\n    </tr>\n    <tr>\n      <th>4</th>\n      <td>NaN</td>\n      <td>NaN</td>\n      <td>NaN</td>\n      <td>NaN</td>\n      <td>NaN</td>\n      <td>NaN</td>\n      <td>NaN</td>\n      <td>NaN</td>\n      <td>NaN</td>\n      <td>NaN</td>\n      <td>...</td>\n      <td>NaN</td>\n      <td>NaN</td>\n      <td>NaN</td>\n      <td>NaN</td>\n      <td>NaN</td>\n      <td>NaN</td>\n      <td>NaN</td>\n      <td>NaN</td>\n      <td>NaN</td>\n      <td>19900.0</td>\n    </tr>\n    <tr>\n      <th>...</th>\n      <td>...</td>\n      <td>...</td>\n      <td>...</td>\n      <td>...</td>\n      <td>...</td>\n      <td>...</td>\n      <td>...</td>\n      <td>...</td>\n      <td>...</td>\n      <td>...</td>\n      <td>...</td>\n      <td>...</td>\n      <td>...</td>\n      <td>...</td>\n      <td>...</td>\n      <td>...</td>\n      <td>...</td>\n      <td>...</td>\n      <td>...</td>\n      <td>...</td>\n      <td>...</td>\n    </tr>\n    <tr>\n      <th>8812</th>\n      <td>NaN</td>\n      <td>NaN</td>\n      <td>NaN</td>\n      <td>NaN</td>\n      <td>NaN</td>\n      <td>NaN</td>\n      <td>NaN</td>\n      <td>Бра со стеклянным плафоном 3457/1 хром/белый с...</td>\n      <td>NaN</td>\n      <td>NaN</td>\n      <td>...</td>\n      <td>NaN</td>\n      <td>NaN</td>\n      <td>NaN</td>\n      <td>NaN</td>\n      <td>NaN</td>\n      <td>NaN</td>\n      <td>NaN</td>\n      <td>NaN</td>\n      <td>NaN</td>\n      <td>1900.0</td>\n    </tr>\n    <tr>\n      <th>8813</th>\n      <td>NaN</td>\n      <td>NaN</td>\n      <td>NaN</td>\n      <td>NaN</td>\n      <td>NaN</td>\n      <td>NaN</td>\n      <td>NaN</td>\n      <td>Люстра потолочная 3353/6 хром/белый предназнач...</td>\n      <td>NaN</td>\n      <td>NaN</td>\n      <td>...</td>\n      <td>NaN</td>\n      <td>NaN</td>\n      <td>NaN</td>\n      <td>NaN</td>\n      <td>NaN</td>\n      <td>NaN</td>\n      <td>NaN</td>\n      <td>NaN</td>\n      <td>NaN</td>\n      <td>8970.0</td>\n    </tr>\n    <tr>\n      <th>8814</th>\n      <td>NaN</td>\n      <td>NaN</td>\n      <td>NaN</td>\n      <td>NaN</td>\n      <td>NaN</td>\n      <td>NaN</td>\n      <td>NaN</td>\n      <td>Потолочная люстра 3353/3 хром/белый предназнач...</td>\n      <td>NaN</td>\n      <td>NaN</td>\n      <td>...</td>\n      <td>NaN</td>\n      <td>NaN</td>\n      <td>NaN</td>\n      <td>NaN</td>\n      <td>NaN</td>\n      <td>NaN</td>\n      <td>NaN</td>\n      <td>NaN</td>\n      <td>NaN</td>\n      <td>5760.0</td>\n    </tr>\n    <tr>\n      <th>8815</th>\n      <td>NaN</td>\n      <td>NaN</td>\n      <td>NaN</td>\n      <td>NaN</td>\n      <td>NaN</td>\n      <td>NaN</td>\n      <td>NaN</td>\n      <td>Торшер с тканевым абажуром 009/1T RDM в янтарн...</td>\n      <td>NaN</td>\n      <td>NaN</td>\n      <td>...</td>\n      <td>NaN</td>\n      <td>NaN</td>\n      <td>NaN</td>\n      <td>NaN</td>\n      <td>NaN</td>\n      <td>NaN</td>\n      <td>NaN</td>\n      <td>NaN</td>\n      <td>NaN</td>\n      <td>6650.0</td>\n    </tr>\n    <tr>\n      <th>8816</th>\n      <td>NaN</td>\n      <td>NaN</td>\n      <td>NaN</td>\n      <td>NaN</td>\n      <td>NaN</td>\n      <td>NaN</td>\n      <td>NaN</td>\n      <td>Настольная лампа 008/1T GR (зеленый) является ...</td>\n      <td>NaN</td>\n      <td>NaN</td>\n      <td>...</td>\n      <td>NaN</td>\n      <td>NaN</td>\n      <td>NaN</td>\n      <td>NaN</td>\n      <td>NaN</td>\n      <td>NaN</td>\n      <td>NaN</td>\n      <td>NaN</td>\n      <td>NaN</td>\n      <td>3060.0</td>\n    </tr>\n  </tbody>\n</table>\n<p>8817 rows × 25 columns</p>\n</div>",
      "text/plain": "       id structure is_public  upc parent title slug  \\\n0     NaN       NaN       NaN  NaN    NaN   NaN  NaN   \n1     NaN       NaN       NaN  NaN    NaN   NaN  NaN   \n2     NaN       NaN       NaN  NaN    NaN   NaN  NaN   \n3     NaN       NaN       NaN  NaN    NaN   NaN  NaN   \n4     NaN       NaN       NaN  NaN    NaN   NaN  NaN   \n...   ...       ...       ...  ...    ...   ...  ...   \n8812  NaN       NaN       NaN  NaN    NaN   NaN  NaN   \n8813  NaN       NaN       NaN  NaN    NaN   NaN  NaN   \n8814  NaN       NaN       NaN  NaN    NaN   NaN  NaN   \n8815  NaN       NaN       NaN  NaN    NaN   NaN  NaN   \n8816  NaN       NaN       NaN  NaN    NaN   NaN  NaN   \n\n                                            description product_class  \\\n0                                                   NaN           NaN   \n1                                                   NaN           NaN   \n2                                                   NaN           NaN   \n3                                                   NaN           NaN   \n4                                                   NaN           NaN   \n...                                                 ...           ...   \n8812  Бра со стеклянным плафоном 3457/1 хром/белый с...           NaN   \n8813  Люстра потолочная 3353/6 хром/белый предназнач...           NaN   \n8814  Потолочная люстра 3353/3 хром/белый предназнач...           NaN   \n8815  Торшер с тканевым абажуром 009/1T RDM в янтарн...           NaN   \n8816  Настольная лампа 008/1T GR (зеленый) является ...           NaN   \n\n     attributes  ... categories is_discountable article series  \\\n0           NaN  ...        NaN             NaN     NaN    NaN   \n1           NaN  ...        NaN             NaN     NaN    NaN   \n2           NaN  ...        NaN             NaN     NaN    NaN   \n3           NaN  ...        NaN             NaN     NaN    NaN   \n4           NaN  ...        NaN             NaN     NaN    NaN   \n...         ...  ...        ...             ...     ...    ...   \n8812        NaN  ...        NaN             NaN     NaN    NaN   \n8813        NaN  ...        NaN             NaN     NaN    NaN   \n8814        NaN  ...        NaN             NaN     NaN    NaN   \n8815        NaN  ...        NaN             NaN     NaN    NaN   \n8816        NaN  ...        NaN             NaN     NaN    NaN   \n\n     seo_name_for_site category barcode attribute image_url    price  \n0                  NaN      NaN     NaN       NaN       NaN  40700.0  \n1                  NaN      NaN     NaN       NaN       NaN  24500.0  \n2                  NaN      NaN     NaN       NaN       NaN  45500.0  \n3                  NaN      NaN     NaN       NaN       NaN  32000.0  \n4                  NaN      NaN     NaN       NaN       NaN  19900.0  \n...                ...      ...     ...       ...       ...      ...  \n8812               NaN      NaN     NaN       NaN       NaN   1900.0  \n8813               NaN      NaN     NaN       NaN       NaN   8970.0  \n8814               NaN      NaN     NaN       NaN       NaN   5760.0  \n8815               NaN      NaN     NaN       NaN       NaN   6650.0  \n8816               NaN      NaN     NaN       NaN       NaN   3060.0  \n\n[8817 rows x 25 columns]"
     },
     "execution_count": 7,
     "metadata": {},
     "output_type": "execute_result"
    }
   ],
   "source": [
    "shop_data"
   ]
  },
  {
   "cell_type": "code",
   "execution_count": null,
   "metadata": {},
   "outputs": [],
   "source": []
  }
 ],
 "metadata": {
  "kernelspec": {
   "display_name": "Python 3.8.3 64-bit ('oscar')",
   "metadata": {
    "interpreter": {
     "hash": "456cb7cbac2fbddbe3daa624414098da11bb4f3e13ca722059c83a65ad72d46e"
    }
   },
   "name": "python3"
  },
  "language_info": {
   "codemirror_mode": {
    "name": "ipython",
    "version": 3
   },
   "file_extension": ".py",
   "mimetype": "text/x-python",
   "name": "python",
   "nbconvert_exporter": "python",
   "pygments_lexer": "ipython3",
   "version": "3.8.3"
  },
  "orig_nbformat": 2
 },
 "nbformat": 4,
 "nbformat_minor": 2
}