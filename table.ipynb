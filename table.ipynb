{
 "cells": [
  {
   "cell_type": "code",
   "execution_count": 1,
   "metadata": {},
   "outputs": [],
   "source": [
    "import pandas as pd\r\n",
    "import numpy as np\r\n"
   ]
  },
  {
   "cell_type": "code",
   "execution_count": 2,
   "metadata": {},
   "outputs": [
    {
     "name": "stderr",
     "output_type": "stream",
     "text": [
      "C:\\ProgramData\\Anaconda3\\lib\\site-packages\\IPython\\core\\interactiveshell.py:3146: DtypeWarning: Columns (0,24,29,30,32,34,35,39,52,54,55,56,57,60,61,63,64,67,71,73,74,75,78,79,83,87,89,90,91,94,100,101,102,106,109,114,115,117,119,124,136,140,142,143,144,145,149,159,162,164,165,166,168,179,182,183,186,187,194,195,196,197,198,201,203,204,205,208,209,211,218,219,240,241,242,243,244,245,246,247) have mixed types.Specify dtype option on import or set low_memory=False.\n",
      "  has_raised = await self.run_ast_nodes(code_ast.body, cell_name,\n"
     ]
    }
   ],
   "source": [
    "URLS = [\r\n",
    "    'http://eurosvet.ru/prices/prices-eurosvet-rur-utf-8.csv',\r\n",
    "    'http://elektrostandard.ru/prices/prices-elektrostandard-rur-utf-8.csv',\r\n",
    "    'http://werkel.ru/prices/prices-werkel-rur-utf-8.csv',\r\n",
    "    'https://api.escorp.ru:779/prices/prices-minimir-rur-utf-8.csv'\r\n",
    "]\r\n",
    "dataframes = []\r\n",
    "for url in URLS:\r\n",
    "    dataframes.append(pd.read_csv(url, sep=';', encoding='utf-8'))\r\n"
   ]
  },
  {
   "cell_type": "code",
   "execution_count": 3,
   "metadata": {},
   "outputs": [],
   "source": [
    "# make shop dataset\r\n",
    "catalogue_product_headers = ['id', 'price',\r\n",
    "                             'description', 'title', 'name', 'upc']\r\n",
    "catalogue_product = pd.DataFrame([], columns=catalogue_product_headers)\r\n"
   ]
  },
  {
   "cell_type": "code",
   "execution_count": 4,
   "metadata": {},
   "outputs": [],
   "source": [
    "def merge_columns(dataframes, col_name,):\r\n",
    "    merged_column = []\r\n",
    "    for dataframe in dataframes:\r\n",
    "        merged_column.append(dataframe[col_name].to_numpy())\r\n",
    "    return np.concatenate(merged_column)\r\n"
   ]
  },
  {
   "cell_type": "code",
   "execution_count": 5,
   "metadata": {},
   "outputs": [],
   "source": [
    "what_copy = {\r\n",
    "    'price': 'Цена',\r\n",
    "    'description': 'Описание',\r\n",
    "    'title': 'SEO название для сайта',\r\n",
    "    'name': 'Наименование',\r\n",
    "    'upc': 'Штрихкод'\r\n",
    "    # 'slug':'SEO название',\r\n",
    "}\r\n",
    "for key in what_copy:\r\n",
    "    catalogue_product[key] = merge_columns(dataframes, what_copy[key])\r\n",
    "catalogue_product['id'] = np.arange(1, len(catalogue_product['id'])+1)\r\n",
    "# shop_data['name']=merge_columns(dataframes,'Наименование')\r\n"
   ]
  },
  {
   "cell_type": "code",
   "execution_count": 6,
   "metadata": {},
   "outputs": [],
   "source": [
    "# catalogue_product"
   ]
  },
  {
   "cell_type": "code",
   "execution_count": 7,
   "metadata": {},
   "outputs": [],
   "source": [
    "# shop_data.to_csv('saved_shop.csv',index=False)"
   ]
  },
  {
   "cell_type": "code",
   "execution_count": 8,
   "metadata": {},
   "outputs": [],
   "source": [
    "catalogue_productimage_headers = [\r\n",
    "    'id', 'original', 'display_order', 'product_id']\r\n",
    "catalogue_productimage = pd.DataFrame(\r\n",
    "    [], columns=catalogue_productimage_headers)\r\n"
   ]
  },
  {
   "cell_type": "code",
   "execution_count": 11,
   "metadata": {},
   "outputs": [],
   "source": [
    "def isNaN(num):\r\n",
    "    return num != num\r\n",
    "\r\n",
    "\r\n",
    "def make_list_of_images(row):\r\n",
    "    merged_urls = []\r\n",
    "    for i in range(len(row)):\r\n",
    "        image_head = 'Изображение '+str(i)\r\n",
    "        if image_head in row.keys() and not isNaN(row[image_head]):\r\n",
    "            merged_urls.append(row[image_head])\r\n",
    "    return merged_urls\r\n",
    "\r\n",
    "\r\n",
    "def make_image_rows(to_dataframe: pd.DataFrame, from_dataframe):\r\n",
    "    for i in range(len(from_dataframe.index)):\r\n",
    "        image_urls = make_list_of_images(from_dataframe.iloc[i])\r\n",
    "        for t in range(len(image_urls)):\r\n",
    "            id = len(to_dataframe.index)+1\r\n",
    "            to_dataframe.loc[id] = [id, image_urls[t], t, i]\r\n",
    "    return to_dataframe\r\n",
    "\r\n",
    "\r\n",
    "def fill_images_table(to_dataframe: pd.DataFrame, from_dataframes):\r\n",
    "    for from_dataframe in from_dataframes:\r\n",
    "        to_dataframe.merge(make_image_rows(to_dataframe, from_dataframe))\r\n",
    "    return to_dataframe\r\n",
    "\r\n",
    "\r\n",
    "catalogue_productimage = fill_images_table(catalogue_productimage, dataframes)\r\n"
   ]
  },
  {
   "cell_type": "code",
   "execution_count": 10,
   "metadata": {},
   "outputs": [],
   "source": [
    "# catalogue_productimage.to_excel('saved_shop.xlsx',index=False)\r\n"
   ]
  },
  {
   "cell_type": "code",
   "execution_count": null,
   "metadata": {},
   "outputs": [],
   "source": []
  }
 ],
 "metadata": {
  "kernelspec": {
   "display_name": "Python 3.8.5 64-bit ('base': conda)",
   "name": "python385jvsc74a57bd0b3ba2566441a7c06988d0923437866b63cedc61552a5af99d1f4fb67d367b25f"
  },
  "language_info": {
   "codemirror_mode": {
    "name": "ipython",
    "version": 3
   },
   "file_extension": ".py",
   "mimetype": "text/x-python",
   "name": "python",
   "nbconvert_exporter": "python",
   "pygments_lexer": "ipython3",
   "version": "3.8.5"
  },
  "orig_nbformat": 2
 },
 "nbformat": 4,
 "nbformat_minor": 2
}